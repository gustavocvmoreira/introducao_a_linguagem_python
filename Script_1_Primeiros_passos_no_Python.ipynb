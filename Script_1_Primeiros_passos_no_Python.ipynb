{
  "nbformat": 4,
  "nbformat_minor": 0,
  "metadata": {
    "colab": {
      "provenance": []
    },
    "kernelspec": {
      "name": "python3",
      "display_name": "Python 3"
    },
    "language_info": {
      "name": "python"
    }
  },
  "cells": [
    {
      "cell_type": "markdown",
      "source": [
        "**Prof. Gustavo Moreira / Esalq-USP** 👽"
      ],
      "metadata": {
        "id": "-ZB-tPZEhw_P"
      }
    },
    {
      "cell_type": "markdown",
      "source": [
        "# 1) Testando o Pyhon"
      ],
      "metadata": {
        "id": "NjCW54SPTKO_"
      }
    },
    {
      "cell_type": "code",
      "execution_count": null,
      "metadata": {
        "id": "g5LbS0JmTFJ-"
      },
      "outputs": [],
      "source": [
        "# Usamos \"hashtag\" para indicar um comentário\n",
        "# Print é um comando de output\n",
        "\n",
        "print('Oi') # Sempre reparem na sintaxe do comando, o básico do código precisamos saber."
      ]
    },
    {
      "cell_type": "code",
      "source": [
        "# Errando no Python:\n",
        "\n",
        "print(\"Sorvete\") # Envolvemos \"Sorvete\" com aspas para que seja interpretado como texto (uma string).\n",
        "\n",
        "#Por que erramos? Mantenha a calma!"
      ],
      "metadata": {
        "id": "8q1UTGuSToKF"
      },
      "execution_count": null,
      "outputs": []
    },
    {
      "cell_type": "code",
      "source": [
        "#Geralmente utilizamos 1 comando por linha\n",
        "# mas dá também para usar ponto e virgula e usar na mesma linha\n",
        "\n",
        "print('Oi')\n",
        "print('teste') # a tecla Shift+Enter executa o comando, e um atalho."
      ],
      "metadata": {
        "id": "FiR_-i3-TwlK"
      },
      "execution_count": null,
      "outputs": []
    },
    {
      "cell_type": "code",
      "source": [
        "#Vamos criar um \"programa\"?\n",
        "\n",
        "Oi = \"Eu sou o Python!\"\n",
        "print(Oi)"
      ],
      "metadata": {
        "id": "xQHqhnXsT8Fh"
      },
      "execution_count": null,
      "outputs": []
    },
    {
      "cell_type": "markdown",
      "source": [
        "# 2) Python como calculadora"
      ],
      "metadata": {
        "id": "H2zajwZ0Ub05"
      }
    },
    {
      "cell_type": "code",
      "source": [
        "#Podemos utilizar o phyton para algumas operações matemáticas simples\n",
        "print(5+5)\n",
        "print(5-1)\n",
        "print(8*9)\n",
        "print(16**0.5) #Dois asteriscos consecutivos indicam \"elevado a\"\n",
        "print(16/8)"
      ],
      "metadata": {
        "id": "Y6V7pxhsUf2g"
      },
      "execution_count": null,
      "outputs": []
    },
    {
      "cell_type": "code",
      "source": [
        "##Podemos também fazer uso de um pacote que permite fazer operações\n",
        "#matemáticas de maneira mais flexível. Esse pacote se chama math\n",
        "\n",
        "import math #o comando import vai importar um pacote chamado de math que\n",
        "#ja esta previamente instalado"
      ],
      "metadata": {
        "id": "BdQ4xd2KU3z-"
      },
      "execution_count": null,
      "outputs": []
    },
    {
      "cell_type": "code",
      "source": [
        "#vamos pedir ajuda para descobrir o que esse pacote faz\n",
        "help(math)"
      ],
      "metadata": {
        "collapsed": true,
        "id": "IWwcV7dNU9rh"
      },
      "execution_count": null,
      "outputs": []
    },
    {
      "cell_type": "code",
      "source": [
        "#Usando o pacote math\n",
        "print(math.pi)\n",
        "print(math.sqrt(25))\n",
        "print(math.sin(0))\n",
        "print(math.exp(2))"
      ],
      "metadata": {
        "id": "8bzY0Rj5VKFt"
      },
      "execution_count": null,
      "outputs": []
    },
    {
      "cell_type": "code",
      "source": [
        "#Veja bem, eu também posso dar apelidos para o nome dos pacotes que irei utilizar:\n",
        "import math as contas\n",
        "\n",
        "#Uma vez que eu o apelidei de contas, agora o nome do comando é contas!\n",
        "print(contas.pi)"
      ],
      "metadata": {
        "id": "x0Jwy9jEVai5"
      },
      "execution_count": null,
      "outputs": []
    },
    {
      "cell_type": "markdown",
      "source": [
        "# 3) Uso de pacotes (bibliotecas) no Python\n",
        "\n"
      ],
      "metadata": {
        "id": "RWGX4cviVwNr"
      }
    },
    {
      "cell_type": "code",
      "source": [
        "# Dentro do Python, há infinitos pacotes. Cada um para uma coisa. Existe um pacote\n",
        "# Para fazer gráficos, um pacote para importar arquivos, um pacote para calcular\n",
        "# Médias, etc.\n",
        "\n",
        "#Alguns pacotes já existe no Python por padrão. Outros, precisamos instalar para usar.\n",
        "\n",
        "# Atenção:\n",
        "\n",
        "# Uma vez instalado, não precisa instalar novamente.\n",
        "# Mas, toda vez que for utilizar o pacote em um script, você deve importar ele no seu código!"
      ],
      "metadata": {
        "id": "N2_5ev9mVyde"
      },
      "execution_count": null,
      "outputs": []
    },
    {
      "cell_type": "code",
      "source": [
        "# Vou instalar alguns pacotes, isso é feito por meio do comando !pip install\n",
        "# !pip install numpy  # Se estiver em um notebook, use a exclamação (!)\n",
        "\n",
        "!pip install numpy\n",
        "\n",
        "!pip install pandas"
      ],
      "metadata": {
        "id": "LpZnOnA8WS10"
      },
      "execution_count": null,
      "outputs": []
    },
    {
      "cell_type": "code",
      "source": [
        "# Uma vez instalado, não preciso instalar mais. Mas, preciso importar eles para\n",
        "# utilizar no meu script:\n",
        "\n",
        "import numpy as np # np e o apelido tipico para o pacote numpy\n",
        "import pandas as pd #pd e o apelido tipico para o pacote pandas\n"
      ],
      "metadata": {
        "id": "bPiq5Uq9Wn4_"
      },
      "execution_count": null,
      "outputs": []
    },
    {
      "cell_type": "code",
      "source": [
        "# Usando o pacote\n",
        "# -------------------\n",
        "# Agora podemos usar as funções do pacote\n",
        "array = np.array([1, 2, 3, 4, 5])  # Criando um array usando o numpy\n",
        "print(\"Sequencia criada com numpy:\", array)"
      ],
      "metadata": {
        "id": "6tCuf5r7XXM7"
      },
      "execution_count": null,
      "outputs": []
    },
    {
      "cell_type": "code",
      "source": [
        "# A biblioteca numpy também pode ser utilizada como calculadora:\n",
        "\n",
        "print(np.sqrt(25))"
      ],
      "metadata": {
        "id": "xttLaiuSYEx0"
      },
      "execution_count": null,
      "outputs": []
    },
    {
      "cell_type": "code",
      "source": [
        "# Verificando pacotes instalados\n",
        "# -------------------\n",
        "# Podemos listar os pacotes instalados no ambiente usando o comando:\n",
        "!pip list  # Rode isso no terminal ou Jupyter Notebook para ver todos os pacotes disponíveis"
      ],
      "metadata": {
        "collapsed": true,
        "id": "nhtnq_46XuC4"
      },
      "execution_count": null,
      "outputs": []
    },
    {
      "cell_type": "markdown",
      "source": [
        "# 4) Python: uma linguagem orientada a objetos"
      ],
      "metadata": {
        "id": "93k4kk6AYgRJ"
      }
    },
    {
      "cell_type": "code",
      "source": [
        "# O Python funciona com base em objetos\n",
        "# Vamos iniciar o estudo de objetos pelas séries\n",
        "# No pacote \"pandas\", as séries são amplamente usadas para análise de dados\n",
        "# Elas podem conter números, textos ou valores lógicos (True/False)"
      ],
      "metadata": {
        "id": "tggGyd7ZYg09"
      },
      "execution_count": null,
      "outputs": []
    },
    {
      "cell_type": "code",
      "source": [
        "# Vou criar um objeto que se chama \"sequencia\", por meio do pacote pandas!\n",
        "# Lembre-se: o pacote pandas só pode ser utilizado se eu importei ele anteriormente.\n",
        "\n",
        "sequencia = pd.Series([1,2,3,4,5,6])\n",
        "\n",
        "print(sequencia)"
      ],
      "metadata": {
        "id": "ScWalcdUZpC5"
      },
      "execution_count": null,
      "outputs": []
    },
    {
      "cell_type": "code",
      "source": [
        "# Vou criar um objeto que se chama \"alunos\", por meio do pacote pandas!\n",
        "# Lembre-se: o pacote pandas só pode ser utilizado se eu importei ele anteriormente.\n",
        "\n",
        "alunos = pd.Series([\"Gustavo\", \"Maria\", \"Pedro\", \"João\", \"Bruna\", \"Geraldo\"])\n",
        "\n",
        "print(alunos)\n"
      ],
      "metadata": {
        "id": "H0YKyjpXaI98"
      },
      "execution_count": null,
      "outputs": []
    },
    {
      "cell_type": "code",
      "source": [
        "# Também poderíamos criar um vetor com argumentos lógicos, True ou False\n",
        "\n",
        "logica = pd.Series([True, True, True, True, False, False])\n",
        "\n",
        "print(logica)"
      ],
      "metadata": {
        "id": "lJ0GfnJNaX79"
      },
      "execution_count": null,
      "outputs": []
    },
    {
      "cell_type": "code",
      "source": [
        "#Observação: nada impede de você ter uma série com várias classes:\n",
        "\n",
        "variado = pd.Series([1, 222, 3, \"Marrom\", \"Verde\", \"Cinza\", True, False, False])\n",
        "\n",
        "print(variado)"
      ],
      "metadata": {
        "id": "CEB6Yg-BchwL"
      },
      "execution_count": null,
      "outputs": []
    },
    {
      "cell_type": "markdown",
      "source": [
        "## 4.1) Brincando com os objetos:"
      ],
      "metadata": {
        "id": "9kWdE4sOdngv"
      }
    },
    {
      "cell_type": "code",
      "source": [
        "#Posso realizar operações a partir dos objetos criados:\n",
        "\n",
        "print(sequencia * 2)\n",
        "print(alunos != \"Gustavo\") #%% Comparando textos (verificando diferença)\n",
        "print(sequencia >3) #%% Comparando números (maior)\n"
      ],
      "metadata": {
        "id": "TFiv7IcedpzD"
      },
      "execution_count": null,
      "outputs": []
    },
    {
      "cell_type": "code",
      "source": [
        "# prompt: dentro do objeto alunos, reporte para mim a lista de todos eles, exceto o Gustavo\n",
        "\n",
        "import pandas as pd\n",
        "\n",
        "alunos = pd.Series([\"Gustavo\", \"Maria\", \"Pedro\", \"João\", \"Bruna\", \"Geraldo\"])\n",
        "\n",
        "# Filtra a lista de alunos, excluindo o Gustavo\n",
        "alunos_sem_gustavo = alunos[alunos != \"Gustavo\"]\n",
        "\n",
        "# Imprime a lista de alunos sem o Gustavo\n",
        "alunos_sem_gustavo\n"
      ],
      "metadata": {
        "id": "IUcOMQ7Z5zX4"
      },
      "execution_count": null,
      "outputs": []
    },
    {
      "cell_type": "code",
      "source": [
        "# Criando novos objetos a partir de objetos já criados:\n",
        "\n",
        "logico = sequencia > 3\n",
        "print(logico)"
      ],
      "metadata": {
        "id": "31tO5FgZee6P"
      },
      "execution_count": null,
      "outputs": []
    },
    {
      "cell_type": "code",
      "source": [
        "# Criando novos objetos a partir de objetos já criados:\n",
        "\n",
        "sequencia2 = sequencia ** 2\n",
        "print(sequencia2)"
      ],
      "metadata": {
        "id": "PX5hJS8gelk9"
      },
      "execution_count": null,
      "outputs": []
    },
    {
      "cell_type": "markdown",
      "source": [
        "# 5) DataFrames"
      ],
      "metadata": {
        "id": "hDF2IN2ldZW_"
      }
    },
    {
      "cell_type": "markdown",
      "source": [
        "Um DataFrame é uma estrutura de dados do pacote pandas, parecida com uma tabela do Excel ou um banco de dados. Ele organiza os dados em linhas e colunas, facilitando a análise e manipulação de informações."
      ],
      "metadata": {
        "id": "VNZk_voWdiyo"
      }
    },
    {
      "cell_type": "code",
      "source": [
        "#Agora, eu posso criar um dataframe.\n",
        "# Data frames são os objetos que guardam informações como nas bases de dados.\n",
        "# Assim, nos data frames estão colunas (variáveis) e linhas (observações).\n",
        "\n",
        "# Criando um DataFrame a partir das séries\n",
        "dados = pd.DataFrame({\n",
        "    \"Número\": sequencia,\n",
        "    \"Nome\": alunos,\n",
        "    \"Aprovado\": logico\n",
        "})\n",
        "\n",
        "# Note que foi criado um objeto do tipo \"DataFrame\" no ambiente"
      ],
      "metadata": {
        "id": "s1XATk6wbpEj"
      },
      "execution_count": null,
      "outputs": []
    },
    {
      "cell_type": "code",
      "source": [
        "# Podemos acessar partes desse novo objeto (DataFrame) com base nos objetos anteriores\n",
        "print(\"\\nAlunos aprovados:\")\n",
        "print(dados[dados[\"Aprovado\"] == True])  # Filtrando alunos aprovados"
      ],
      "metadata": {
        "id": "Fj0ov3pmcRsk"
      },
      "execution_count": null,
      "outputs": []
    },
    {
      "cell_type": "markdown",
      "source": [
        "✅✅✅ UTILIZAREMOS DATAFRAMES PARA SEMPRE!!!"
      ],
      "metadata": {
        "id": "nNEjA8t3cv_3"
      }
    },
    {
      "cell_type": "markdown",
      "source": [
        "# 6) Exercícios"
      ],
      "metadata": {
        "id": "eXPTtvJcfPaV"
      }
    },
    {
      "cell_type": "code",
      "source": [
        "# 6) Exercício Prático: Trabalhando com DataFrames\n",
        "\n",
        "# Agora que aprendemos sobre séries e DataFrames, vamos praticar! 🚀\n",
        "# Complete os desafios abaixo seguindo as instruções de cada item.\n",
        "\n",
        "# a) Importe o pacote pandas e crie três séries:\n",
        "#    - Uma com nomes de cinco produtos (ex: \"Arroz\", \"Feijão\", etc.)\n",
        "#    - Outra com os preços desses produtos\n",
        "#    - E uma terceira indicando se o produto está disponível (True ou False)\n",
        "\n",
        "# b) Crie um DataFrame usando as séries acima.\n",
        "#    - As colunas devem se chamar \"Produto\", \"Preço\" e \"Disponível\".\n",
        "\n",
        "# c) Exiba o DataFrame completo.\n",
        "\n",
        "# d) Filtre e mostre apenas os produtos que estão disponíveis.\n",
        "\n",
        "# e) Aumente o preço de todos os produtos em 10% e exiba o DataFrame atualizado.\n",
        "\n",
        "# f) Agora, adicione uma nova coluna chamada \"Categoria\", onde cada produto\n",
        "#    recebe uma categoria, como \"Alimento\", \"Bebida\", etc.\n",
        "\n",
        "# 🎯 DESAFIO EXTRA: Filtre os produtos que custam mais de R$10,00 e exiba o resultado.\n",
        "\n",
        "# 🚀 Teste seus conhecimentos! Se precisar de ajuda, volte nos tópicos anteriores."
      ],
      "metadata": {
        "id": "LhF4DtdrfQyM"
      },
      "execution_count": null,
      "outputs": []
    },
    {
      "cell_type": "markdown",
      "source": [
        "# 7) Resolução"
      ],
      "metadata": {
        "id": "tkodaBqefhYa"
      }
    }
  ]
}