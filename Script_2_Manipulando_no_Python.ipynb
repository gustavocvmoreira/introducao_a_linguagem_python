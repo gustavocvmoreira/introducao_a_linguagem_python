{
  "cells": [
    {
      "cell_type": "markdown",
      "metadata": {
        "id": "-ZB-tPZEhw_P"
      },
      "source": [
        "**Prof. Gustavo Moreira / Esalq-USP** 👽"
      ]
    },
    {
      "cell_type": "markdown",
      "metadata": {
        "id": "NjCW54SPTKO_"
      },
      "source": [
        "# 1) Relembrando: dataframes!"
      ]
    },
    {
      "cell_type": "code",
      "execution_count": null,
      "metadata": {
        "id": "Fc1Juvn_OGIG"
      },
      "outputs": [],
      "source": [
        "#Importando bibliotecas para uso\n",
        "import numpy as np\n",
        "import pandas as pd"
      ]
    },
    {
      "cell_type": "code",
      "execution_count": null,
      "metadata": {
        "id": "g5LbS0JmTFJ-"
      },
      "outputs": [],
      "source": [
        "# Criando as séries com 20 pessoas\n",
        "idades = pd.Series([25, 32, 29, 40, 37, 22, 45, 38, 28, 50,\n",
        "                    42, 31, 33, 26, 48, 39, 35, 27, 47, 36])\n",
        "clientes = pd.Series([\n",
        "    \"Ana\", \"Bruno\", \"Carla\", \"Daniel\", \"Eduarda\", \"Felipe\", \"Gabriela\", \"Henrique\", \"Isabela\", \"João\",\n",
        "    \"Karina\", \"Lucas\", \"Mariana\", \"Nathan\", \"Olívia\", \"Pedro\", \"Quésia\", \"Rafael\", \"Sabrina\", \"Tiago\"\n",
        "])\n",
        "renda = pd.Series([2500, 3200, 2900, 4000, 3700, None, 4500, 3800, None, 5000,\n",
        "                   4200, 3100, 3300, None, 4800, 3900, 3500, None, 4700, 3600])\n",
        "\n",
        "# Criando o DataFrame\n",
        "df = pd.DataFrame({\n",
        "    'clientes': clientes,\n",
        "    'idade': idades,\n",
        "    'renda': renda\n",
        "})\n",
        "\n",
        "print(df)"
      ]
    },
    {
      "cell_type": "code",
      "execution_count": null,
      "metadata": {
        "id": "C4arnIJ-O5T8"
      },
      "outputs": [],
      "source": [
        "#Mostrando dados de quem tem renda superior a 3000\n",
        "\n",
        "clientes_com_renda_alta = df[df['renda'] > 3000]\n",
        "\n",
        "print(clientes_com_renda_alta)"
      ]
    },
    {
      "cell_type": "code",
      "execution_count": null,
      "metadata": {
        "id": "yCd1WIn6UjZZ"
      },
      "outputs": [],
      "source": [
        "#Limpando objetos não mais úteis\n",
        "\n",
        "del idades, clientes, renda"
      ]
    },
    {
      "cell_type": "markdown",
      "metadata": {
        "id": "H2zajwZ0Ub05"
      },
      "source": [
        "# 2) Conceitos básicos de manipulação de dados"
      ]
    },
    {
      "cell_type": "code",
      "execution_count": null,
      "metadata": {
        "id": "Y6V7pxhsUf2g"
      },
      "outputs": [],
      "source": [
        "print(df.head(5))  # Exibe os primeiros 5 registros"
      ]
    },
    {
      "cell_type": "code",
      "execution_count": null,
      "metadata": {
        "id": "CDzOAivbRD5y"
      },
      "outputs": [],
      "source": [
        "print(df.tail(5))  # Exibe os últimos 5 registros"
      ]
    },
    {
      "cell_type": "code",
      "execution_count": null,
      "metadata": {
        "id": "2kxmeW36Q_S8"
      },
      "outputs": [],
      "source": [
        "print(df.info())  # Mostra tipos de dados e valores não nulos"
      ]
    },
    {
      "cell_type": "markdown",
      "metadata": {
        "id": "J6LWtu4xRW4-"
      },
      "source": [
        "\n",
        "*   O tipo int64 representa números inteiros de 64 bits.\n",
        "*   O tipo object geralmente representa strings (textos), mas também pode armazenar dados mistos.\n",
        "*   O tipo float64 representa números com casas decimais (ponto flutuante de 64 bits)."
      ]
    },
    {
      "cell_type": "code",
      "execution_count": null,
      "metadata": {
        "id": "fZ4ap2xzUT6L"
      },
      "outputs": [],
      "source": [
        "#Identificando valores ausentes:\n",
        "\n",
        "print(df.isnull().sum())  # Conta quantos valores faltantes existem por coluna"
      ]
    },
    {
      "cell_type": "code",
      "execution_count": null,
      "metadata": {
        "id": "b1o16Pq8VBR0"
      },
      "outputs": [],
      "source": [
        "# Reorganizando a posição das variáveis\n",
        "\n",
        "df = df.reindex(['renda','idade','clientes'], axis=1)\n",
        "print(df.head())"
      ]
    },
    {
      "cell_type": "code",
      "execution_count": null,
      "metadata": {
        "id": "bVrc5SSDVwHQ"
      },
      "outputs": [],
      "source": [
        "# Excluindo alguma variavel de interesse do df:\n",
        "\n",
        "novo_df = df.drop('idade', axis=1) # Exclui a variável idade\n",
        "print(novo_df.head())"
      ]
    },
    {
      "cell_type": "code",
      "execution_count": null,
      "metadata": {
        "id": "eZnCxl4eW1Hy"
      },
      "outputs": [],
      "source": [
        "#Ordenar os dados pela renda (do maior para o menor)\n",
        "\n",
        "df_ordenado = novo_df.sort_values(by='renda', ascending=False)\n",
        "print(df_ordenado)"
      ]
    },
    {
      "cell_type": "code",
      "execution_count": null,
      "metadata": {
        "id": "KLOMldUaV6B9"
      },
      "outputs": [],
      "source": [
        "# Excluindo algumas observações:\n",
        "\n",
        "novo_df = novo_df.drop(3) #Exclui observação da linha 3\n",
        "print(novo_df.head())"
      ]
    },
    {
      "cell_type": "markdown",
      "metadata": {
        "id": "rVSquke3YX-3"
      },
      "source": [
        "# 3) O uso de operadores lógicos"
      ]
    },
    {
      "cell_type": "code",
      "execution_count": null,
      "metadata": {
        "id": "1RRxbyZgYdoo"
      },
      "outputs": [],
      "source": [
        "#%% Filtrando observações por meio de operadores\n",
        "\n",
        "# Também é possível filtrar observações por meio dos operadores:\n",
        "# Alguns operadores úteis para realizar filtros:\n",
        "\n",
        "# \"== igual\"\n",
        "# \"> maior\"\n",
        "# \">= maior ou igual\"\n",
        "# \"< menor\"\n",
        "# \"<= menor ou igual\"\n",
        "# \"!= diferente\"\n",
        "# \"& indica e\"\n",
        "# \"| indica ou\""
      ]
    },
    {
      "cell_type": "code",
      "execution_count": null,
      "metadata": {
        "id": "i5Z9d7XZY1Yz"
      },
      "outputs": [],
      "source": [
        "#Filtrar clientes com idade igual a 40 anos:\n",
        "\n",
        "df_40_anos = df[df['idade'] == 40]\n",
        "print(df_40_anos)"
      ]
    },
    {
      "cell_type": "code",
      "execution_count": null,
      "metadata": {
        "id": "83BYB7VJZEP4"
      },
      "outputs": [],
      "source": [
        "#Filtrar clientes com renda acima de 4000:\n",
        "\n",
        "df_renda_alta = df[df['renda'] > 4000]\n",
        "print(df_renda_alta)"
      ]
    },
    {
      "cell_type": "code",
      "execution_count": null,
      "metadata": {
        "id": "Bf5iMFrrZJir"
      },
      "outputs": [],
      "source": [
        "# Filtrar clientes com idade maior ou igual a 40 anos:\n",
        "\n",
        "df_maiores_40 = df[df['idade'] >= 40]\n",
        "print(df_maiores_40)"
      ]
    },
    {
      "cell_type": "code",
      "execution_count": null,
      "metadata": {
        "id": "STUoVIDqZPWT"
      },
      "outputs": [],
      "source": [
        "#Filtrar clientes com idade menor que 30 anos:\n",
        "\n",
        "df_jovens = df[df['idade'] < 30]\n",
        "print(df_jovens)"
      ]
    },
    {
      "cell_type": "code",
      "execution_count": null,
      "metadata": {
        "id": "TZClQ9xwZf4h"
      },
      "outputs": [],
      "source": [
        "#Filtrar clientes com renda menor ou igual a 3500:\n",
        "\n",
        "df_renda_baixa = df[df['renda'] <= 3500]\n",
        "print(df_renda_baixa)"
      ]
    },
    {
      "cell_type": "code",
      "execution_count": null,
      "metadata": {
        "id": "TVGXrhecZj1s"
      },
      "outputs": [],
      "source": [
        "#Filtrar clientes que não têm 25 anos:\n",
        "\n",
        "df_sem_25 = df[df['idade'] != 25]\n",
        "print(df_sem_25)"
      ]
    },
    {
      "cell_type": "code",
      "execution_count": null,
      "metadata": {
        "id": "36MudS1hZqAH"
      },
      "outputs": [],
      "source": [
        "# Filtrar clientes com mais de 30 anos E renda acima de 4000:\n",
        "\n",
        "df_filtro = df[(df['idade'] > 30) & (df['renda'] > 4000)]\n",
        "print(df_filtro)"
      ]
    },
    {
      "cell_type": "code",
      "execution_count": null,
      "metadata": {
        "id": "lB5GC_nOZuhj"
      },
      "outputs": [],
      "source": [
        "#Filtrar clientes com menos de 25 anos OU renda maior que 4500:\n",
        "\n",
        "df_filtro = df[(df['idade'] < 25) | (df['renda'] > 4500)]\n",
        "print(df_filtro)"
      ]
    },
    {
      "cell_type": "markdown",
      "metadata": {
        "id": "RAzfR2_OWMqi"
      },
      "source": [
        "# 4) Algumas estatísticas descritivas:"
      ]
    },
    {
      "cell_type": "code",
      "execution_count": null,
      "metadata": {
        "id": "8TSQV_UdRNOD"
      },
      "outputs": [],
      "source": [
        "print(df.describe())  # Estatísticas básicas das colunas numéricas"
      ]
    },
    {
      "cell_type": "markdown",
      "metadata": {
        "id": "cnbEjUyVR8uU"
      },
      "source": [
        "** Count: Mostra quantos valores não nulos existem na coluna.\n",
        "\n",
        "** Mean: Exibe a média aritmética dos valores.\n",
        "\n",
        "** std (desvio padrão): Mede a dispersão dos dados em relação à média.\n",
        "\n",
        "** min: Mostra o menor valor encontrado na coluna.\n",
        "\n",
        "** 25%: Indica o percentil 25 (25% dos dados estão abaixo desse valor).\n",
        "\n",
        "** 50% (mediana): O valor central quando os dados estão ordenados.\n",
        "\n",
        "** 75%: Indica o percentil 75 (75% dos valores estão abaixo dele).\n",
        "\n",
        "** max: Mostra o maior valor encontrado na coluna."
      ]
    },
    {
      "cell_type": "code",
      "execution_count": null,
      "metadata": {
        "id": "f4jGoeD1ThCJ"
      },
      "outputs": [],
      "source": [
        "#Criar uma nova variável categorizando a variável renda:\n",
        "\n",
        "df['categoria_renda'] = df['renda'].apply(lambda x: 'Alta' if x > 4000 else 'Média' if x > 3000 else 'Baixa')\n",
        "print(df)"
      ]
    },
    {
      "cell_type": "code",
      "execution_count": null,
      "metadata": {
        "id": "6vTN1pGgUFdV"
      },
      "outputs": [],
      "source": [
        "#Contar quantos clientes há por categoria de renda\n",
        "\n",
        "print(df['categoria_renda'].value_counts())\n"
      ]
    },
    {
      "cell_type": "markdown",
      "metadata": {
        "id": "DaVQdcSCaLwn"
      },
      "source": [
        "# 5) Importando séries financeiras (Yahoo Finanças)"
      ]
    },
    {
      "cell_type": "markdown",
      "metadata": {
        "id": "9-VgF8BF9yS-"
      },
      "source": [
        "Para saber o código dos ativos, busque no site: https://finance.yahoo.com/"
      ]
    },
    {
      "cell_type": "code",
      "execution_count": null,
      "metadata": {
        "id": "Top8HPjMaYpq"
      },
      "outputs": [],
      "source": [
        "# Podemos importar alguns dados diretamente da internet, sem precisar passar\n",
        "# pelo nosso computador, esse é o caso do Yahoo Finanças:\n",
        "\n",
        "!pip install yfinance # Instala a biblioteca yfinance\n",
        "import yfinance as yf #Importando o pacote previamente instalado e dando o apelido de yf"
      ]
    },
    {
      "cell_type": "code",
      "execution_count": null,
      "metadata": {
        "id": "FnlSZqWgbgui"
      },
      "outputs": [],
      "source": [
        "dados = yf.download(\"BTC-USD\", start=\"2023-01-01\", end=\"2025-01-01\", progress=False)\n",
        "print(dados.head())  # Mostra as primeiras linhas"
      ]
    },
    {
      "cell_type": "code",
      "execution_count": null,
      "metadata": {
        "id": "U0gRsG-ScXg-"
      },
      "outputs": [],
      "source": [
        "#Também posso importar dados de diversas empresas ao mesmo tempo:\n",
        "\n",
        "tickers = [\"PETR4.SA\", \"ITSA3.SA\", \"VALE3.SA\"]  # Petrobrás, Itaú e Vale\n",
        "dados_multi = yf.download(tickers, start=\"2023-01-01\", end=\"2025-01-01\", progress=False)\n",
        "print(dados_multi.head())"
      ]
    },
    {
      "cell_type": "markdown",
      "metadata": {
        "id": "eXPTtvJcfPaV"
      },
      "source": [
        "# 6) Exercícios"
      ]
    },
    {
      "cell_type": "code",
      "execution_count": null,
      "metadata": {
        "id": "QQClKaZmmyoA"
      },
      "outputs": [],
      "source": [
        "# 📌 A) Escolher um ativo e definir período\n",
        "ticker = \"____\"  # Escolha um código de ação do Yahoo Finanças\n",
        "dados = yf.download(ticker, start=\"____\", end=\"____\")\n",
        "\n",
        "# 📌 B) Mostrar as primeiras linhas do DataFrame\n",
        "\n",
        "# 📌 C) Exibir e analisar estatísticas básicas\n",
        "\n",
        "# 📌 D) Aplicar filtros\n",
        "\n",
        "# D.a) Filtrar os dias em que o preço de fechamento foi maior que um valor específico\n",
        "\n",
        "# D.b) Filtrar os dias em que o volume negociado foi maior que um limite determinado\n",
        "\n",
        "# 📌 E) Descobrir o maior e menor preço de fechamento no período\n",
        "\n",
        "# 📌 F) Calcule a variação percentual diária da ação\n",
        "\n",
        "# G.a) Filtrar os dias em que a ação subiu mais de 3%\n",
        "\n",
        "# G.b) Filtrar os dias em que a ação caiu mais de 3%\n",
        "\n",
        "# H) Analisar a relação entre Volume e Variação de Preço\n",
        "# Dica: Use `.corr()` para calcular a correlação entre colunas\n"
      ]
    },
    {
      "cell_type": "markdown",
      "metadata": {
        "id": "tkodaBqefhYa"
      },
      "source": [
        "# 7) Resolução"
      ]
    },
    {
      "cell_type": "code",
      "source": [],
      "metadata": {
        "id": "qhyZzd7g4Q4I"
      },
      "execution_count": null,
      "outputs": []
    }
  ],
  "metadata": {
    "colab": {
      "provenance": [],
      "collapsed_sections": [
        "NjCW54SPTKO_",
        "H2zajwZ0Ub05",
        "rVSquke3YX-3",
        "RAzfR2_OWMqi",
        "DaVQdcSCaLwn"
      ]
    },
    "kernelspec": {
      "display_name": "Python 3",
      "name": "python3"
    },
    "language_info": {
      "name": "python"
    }
  },
  "nbformat": 4,
  "nbformat_minor": 0
}