{
  "nbformat": 4,
  "nbformat_minor": 0,
  "metadata": {
    "colab": {
      "provenance": []
    },
    "kernelspec": {
      "name": "python3",
      "display_name": "Python 3"
    },
    "language_info": {
      "name": "python"
    }
  },
  "cells": [
    {
      "cell_type": "markdown",
      "source": [
        "**Prof. Gustavo Moreira / Esalq-USP** 👽"
      ],
      "metadata": {
        "id": "-ZB-tPZEhw_P"
      }
    },
    {
      "cell_type": "markdown",
      "source": [
        "# 1) Importando dados de planilhas"
      ],
      "metadata": {
        "id": "TYwOjBwkgqU9"
      }
    },
    {
      "cell_type": "markdown",
      "source": [
        "## 1.1) Dados em excel, diretamente do computador"
      ],
      "metadata": {
        "id": "VQrefhp2hb0q"
      }
    },
    {
      "cell_type": "code",
      "source": [
        "from google.colab import files\n",
        "import pandas as pd\n",
        "\n",
        "# Fazer upload do arquivo\n",
        "uploaded = files.upload()\n",
        "\n",
        "# Lendo o arquivo Excel\n",
        "df1 = pd.read_excel(next(iter(uploaded)))\n",
        "df1.head()"
      ],
      "metadata": {
        "id": "YGWZqALHgp7Q"
      },
      "execution_count": null,
      "outputs": []
    },
    {
      "cell_type": "markdown",
      "source": [
        "## 1.2) Dados em .csv, diretamente do computador"
      ],
      "metadata": {
        "id": "_4wmI7n2hl7v"
      }
    },
    {
      "cell_type": "code",
      "source": [
        "from google.colab import files\n",
        "import pandas as pd\n",
        "\n",
        "# Fazer upload do arquivo\n",
        "uploaded = files.upload()\n",
        "\n",
        "# Lendo o arquivo CSV com separador \";\" e corrigindo a codificação\n",
        "df2 = pd.read_csv(next(iter(uploaded)), sep=',', encoding='latin1')  # ou 'ISO-8859-1'\n",
        "df2.head()"
      ],
      "metadata": {
        "id": "sisArDxChvFe"
      },
      "execution_count": null,
      "outputs": []
    },
    {
      "cell_type": "markdown",
      "source": [
        "# 2) Conectando o seu google colab ao seu google drive para importar dados:"
      ],
      "metadata": {
        "id": "BrIrMJIbi2Dm"
      }
    },
    {
      "cell_type": "code",
      "source": [
        "#Conectar o google colab com o seu google drive é muito conveniente e prático\n",
        "from google.colab import drive\n",
        "\n",
        "# Conectar ao Drive\n",
        "drive.mount('/content/drive')\n",
        "\n",
        "# Caminho do arquivo\n",
        "# Você deve selecionar o caminho\n",
        "# correto onde está o arquivo. Para isso, navegue pelas pastas do seu google\n",
        "# drive no menu à esquerda do google drive.\n",
        "\n",
        "caminho_arquivo = '/content/Dados_CO2.xlsx'\n",
        "\n",
        "# Lendo o Excel\n",
        "df3 = pd.read_excel(caminho_arquivo)\n",
        "df3.head()"
      ],
      "metadata": {
        "id": "InEKNlTwi6bB"
      },
      "execution_count": null,
      "outputs": []
    },
    {
      "cell_type": "markdown",
      "source": [
        "# 3) Importando dados diretamente da internet (APIs)"
      ],
      "metadata": {
        "id": "89vS7t2aj3CQ"
      }
    },
    {
      "cell_type": "markdown",
      "source": [
        "## 3.1) Yahoo Finanças"
      ],
      "metadata": {
        "id": "tjH-mOEElGSW"
      }
    },
    {
      "cell_type": "code",
      "source": [
        "# Assim como o YahooFinanças, alguns sites permitem importar dados diretamente\n",
        "# no google colab, sem a necesssidade de fazer o download de planilhas e depois\n",
        "# importar manualmente. É preciso consultar cada site em específico.\n",
        "\n",
        "#Vamos ver alguns exemplos:\n",
        "!pip install yfinance\n",
        "import yfinance as yf\n",
        "\n",
        "# Baixando dados do preço das ações da Apple (AAPL)\n",
        "df4 = yf.download(\"BTC-USD\", start=\"2023-01-31\", end=\"2024-01-01\")\n",
        "df4.head()"
      ],
      "metadata": {
        "id": "zX35yfWxj81V"
      },
      "execution_count": null,
      "outputs": []
    },
    {
      "cell_type": "markdown",
      "source": [
        "## 3.2) Dados econômicos dos EUA"
      ],
      "metadata": {
        "id": "1oSEKA2KlKeV"
      }
    },
    {
      "cell_type": "markdown",
      "source": [
        "Dados econômicos dos EUA estão disponíveis no FRED (Federal Reserve Economic Data). Para saber os dados disponíveis, clique [aqui](https://fred.stlouisfed.org)"
      ],
      "metadata": {
        "id": "3npHRWZBltEp"
      }
    },
    {
      "cell_type": "code",
      "source": [
        "import pandas_datareader.data as web\n",
        "import datetime\n",
        "\n",
        "# Definindo período\n",
        "start = datetime.datetime(2023, 1, 1)\n",
        "end = datetime.datetime(2024, 1, 1)\n",
        "\n",
        "# Pegando dados do PIB dos EUA (GDP)\n",
        "df5 = web.DataReader(\"UNRATE\", \"fred\", start, end)\n",
        "df5.head()\n",
        "\n"
      ],
      "metadata": {
        "id": "EH0JD0OGkU6d"
      },
      "execution_count": null,
      "outputs": []
    },
    {
      "cell_type": "markdown",
      "source": [
        "## 3.3) Dados do Banco Central do Brasil (BACEN)"
      ],
      "metadata": {
        "id": "UTNxWvWEmDzf"
      }
    },
    {
      "cell_type": "markdown",
      "source": [
        "Os dados do Bacen são organizados por códigos numéricos. Para encontrar a série desejada:\n",
        "\n",
        "📌 Acesse: https://www3.bcb.gov.br/sgspub/\n",
        "\n",
        "Use a barra de pesquisa para encontrar a série desejada (exemplo: \"Taxa Selic\").\n",
        "O código da série aparece na URL e no título da página."
      ],
      "metadata": {
        "id": "vLq71oEpm4J-"
      }
    },
    {
      "cell_type": "code",
      "source": [
        "import requests\n",
        "import pandas as pd\n",
        "\n",
        "# Código da série desejada (ex: Meta Selic definida pelo Copom - 432)\n",
        "codigo_serie = 432\n",
        "\n",
        "# Definir período desejado\n",
        "data_inicial = \"01/01/2023\"\n",
        "data_final = \"31/12/2023\"\n",
        "\n",
        "# URL com período específico\n",
        "url = f\"https://api.bcb.gov.br/dados/serie/bcdata.sgs.{codigo_serie}/dados?formato=json&dataInicial={data_inicial}&dataFinal={data_final}\"\n",
        "\n",
        "# Fazendo a requisição\n",
        "response = requests.get(url)\n",
        "\n",
        "# Verificando se a requisição foi bem sucedida (status code 200)\n",
        "if response.status_code == 200:\n",
        "    dados = response.json()\n",
        "\n",
        "    # Convertendo para DataFrame\n",
        "    df6 = pd.DataFrame(dados)\n",
        "\n",
        "    # Convertendo a coluna 'data' para formato de data\n",
        "    df6['data'] = pd.to_datetime(df6['data'], dayfirst=True)\n",
        "\n",
        "    # Convertendo 'valor' para numérico\n",
        "    df6['valor'] = pd.to_numeric(df6['valor'], errors='coerce')\n",
        "\n",
        "    df6.head()\n",
        "else:\n",
        "    # Imprimir status code e texto da resposta em caso de erro\n",
        "    print(f\"Erro na requisição. Status Code: {response.status_code}\")\n",
        "    print(f\"Response Text: {response.text}\")\n",
        "    # Você pode adicionar lógica para tentar novamente ou lidar com o erro de outra forma\n",
        "    df6 = pd.DataFrame() # Criar um DataFrame vazio para evitar erros posteriores se necessário"
      ],
      "metadata": {
        "id": "v-CL8Q0AmWfq"
      },
      "execution_count": null,
      "outputs": []
    }
  ]
}